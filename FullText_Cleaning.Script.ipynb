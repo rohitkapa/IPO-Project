{
 "cells": [
  {
   "cell_type": "code",
   "execution_count": 1,
   "metadata": {
    "collapsed": true
   },
   "outputs": [],
   "source": [
    "##the folder where the titles needs to be created should be passed as arguments to the function calling.\n",
    "\n",
    "import re, os, sys\n",
    "import codecs\n",
    "from nltk.corpus import stopwords \n",
    "from BeautifulSoup import BeautifulSoup"
   ]
  },
  {
   "cell_type": "code",
   "execution_count": 2,
   "metadata": {
    "collapsed": true
   },
   "outputs": [],
   "source": [
    "\n",
    "\n",
    "\n",
    "def html_to_text(data):        \n",
    "   \n",
    "    # now remove the java script\n",
    "    p = re.compile(r'< script[^<>]*?>.*?< / script >')\n",
    "    data = p.sub('', data)\n",
    "   \n",
    "    # remove the css styles\n",
    "    p = re.compile(r'< style[^<>]*?>.*?< / style >')\n",
    "    data = p.sub('', data)\n",
    "   \n",
    "    # remove html comments\n",
    "    p = re.compile(r'')\n",
    "    data = p.sub('', data)\n",
    "   \n",
    "    # remove all the tags\n",
    "    p = re.compile(r'<[^<]*?>')\n",
    "    data = p.sub('', data)\n",
    "   \n",
    "    return data"
   ]
  },
  {
   "cell_type": "code",
   "execution_count": 5,
   "metadata": {
    "collapsed": false
   },
   "outputs": [],
   "source": [
    "path = \"C:/Users/rohit/Documents/IPO Project/finaldata\"\n",
    "os.chdir(path)\n",
    "dirs = os.listdir(path)\n",
    "for file in dirs:\n",
    "     \n",
    "    with open (file, \"r\") as myfile:\n",
    "        text1=myfile.read()\n",
    "        ##data1=\" \".join(text1.split())\n",
    "        data1=text1    \n",
    "        try:\n",
    "            name2=data1[data1.index(\"COMPANY CONFORMED NAME\")+24:data1.rindex(\"CENTRAL INDEX KEY\")-1]\n",
    "        except:\n",
    "            name2='NOTFOUND'\n",
    "        empty_filename='0000000000'\n",
    "        company_name=file[:-4].join(empty_filename.rsplit(empty_filename[(len(empty_filename)-len(file[:-4])):], 1))\n",
    "        \n",
    "        final2= re.sub('&....;','',data1)\n",
    "        final2=html_to_text(final2)\n",
    "        soup = BeautifulSoup(final2)\n",
    "        final2 = ''.join(soup.findAll(text=True))\n",
    "        final2 = re.sub('<PAGE>', '', final2)\n",
    "        ##final2=\" \".join(final2.split())\n",
    "        final2= re.sub('&....;','',final2)\n",
    "        final2= company_name+' '+final2\n",
    "        cachedStopWords=stopwords.words('english')\n",
    "        final_output = ' '.join([word for word in final2.split() if word not in cachedStopWords])\n",
    "        final_output=final_output.split('.jpg')[0]\n",
    "        final_output=final_output.split('.gif')[0]\n",
    "        ''.join(e for e in final_output if e.isalnum())\n",
    "        final_output = re.sub('[-:+\\/=]','',final_output)\n",
    "        final_output=re.sub('\\.\\.+', '.', final_output)\n",
    "        final_output = re.sub('\\s.?\\s',' ',final_output)\n",
    "        final_output=re.sub(r'\\b\\w{18,}\\b',' ',final_output)\n",
    "        ##filtered_words = [word for word in final_output if word not in stopwords.words('english')]\n",
    "        \n",
    "        name=\"C:/Users/rohit/Documents/IPO Project/\"+\"/\"+\"fullcleantext/\"+company_name+'_'+'entireprospectus'+\".txt\"\n",
    "        file1 = open(name,'w')\n",
    "        file1.write(final_output)\n",
    "        file1.close()\n",
    "                "
   ]
  },
  {
   "cell_type": "code",
   "execution_count": 85,
   "metadata": {
    "collapsed": false
   },
   "outputs": [
    {
     "name": "stdout",
     "output_type": "stream",
     "text": [
      "-----BEGIN PRIVACY-ENHANCED MESSAGE----- Proc-Type:..... 2001,MIC-CLEAR Originator-Name: webmaster@www.sec.gov Originator-Key-Asymmetric: MFgwCgYEVQgBAQICAf8DSgAwRwJAW2sNKK9AVtBzYZmr6aGjlWyK3XmZv3dTINen TWSM7vrzLADbmYQaionwg5sDW3P6oaM5D3tdezXMm7z1T+B+twIDAQAB MIC-Info: RSA-MD5,RSA, Al25iIaXlpnFNWre1n1DJ/93Q+NfhpXXgTyIs1hElOMY0LrThHcSftziYzffvim9 s6iplhsz696PgT0U9aKqiQ== 0000950144-99-008874.txt : 19990716 0000950144-99-008874.hdr.sgml : 19990716 ACCESSION NUMBER: 0000950144-99-008874 CONFORMED SUBMISSION TYPE: S-1/A PUBLIC DOCUMENT COUNT: 3 FILED AS OF DATE: 19990715 FILER: COMPANY DATA: COMPANY CONFORMED NAME: PARADYNE NETWORKS INC CENTRAL INDEX KEY: 0000076174 STANDARD INDUSTRIAL CLASSIFICATION: ELECTRONIC COMPONENTS & ACCESSORIES [3670] IRS NUMBER: 520891723 STATE OF INCORPORATION: DE FISCAL YEAR END: 1231 FILING VALUES: FORM TYPE: S-1/A SEC ACT: SEC FILE NUMBER: 333-76385 FILM NUMBER: 99664780 BUSINESS ADDRESS: STREET 1: 8545 126TH AVE NORTH STREET 2: \n",
      "-----BEGIN PRIVACY-ENHANCED MESSAGE----- Proc-Type:..... 2001,MIC-CLEAR Originator-Name: webmaster@www.sec.gov Originator-Key-Asymmetric: MFgwCgYEVQgBAQICAf8DSgAwRwJAW2sNKK9AVtBzYZmr6aGjlWyK3XmZv3dTINen TWSM7vrzLADbmYQaionwg5sDW3P6oaM5D3tdezXMm7z1T+B+twIDAQAB MIC-Info: RSA-MD5,RSA, Al25iIaXlpnFNWre1n1DJ/93Q+NfhpXXgTyIs1hElOMY0LrThHcSftziYzffvim9 s6iplhsz696PgT0U9aKqiQ== 0000950144-99-008874.txt : 19990716 0000950144-99-008874.hdr.sgml : 19990716 ACCESSION NUMBER: 0000950144-99-008874 CONFORMED SUBMISSION TYPE: S-1/A PUBLIC DOCUMENT COUNT: 3 FILED AS OF DATE: 19990715 FILER: COMPANY DATA: COMPANY CONFORMED NAME: PARADYNE NETWORKS INC CENTRAL INDEX KEY: 0000076174 STANDARD INDUSTRIAL CLASSIFICATION: ELECTRONIC COMPONENTS & ACCESSORIES [3670] IRS NUMBER: 520891723 STATE OF INCORPORATION: DE FISCAL YEAR END: 1231 FILING VALUES: FORM TYPE: S-1/A SEC ACT: SEC FILE NUMBER: 333-76385 FILM NUMBER: 99664780 BUSINESS ADDRESS: STREET 1: 8545 126TH AVE NORTH STREET 2: \n"
     ]
    }
   ],
   "source": [
    "a='-----BEGIN PRIVACY-ENHANCED MESSAGE----- Proc-Type:..... 2001,MIC-CLEAR Originator-Name: webmaster@www.sec.gov Originator-Key-Asymmetric: MFgwCgYEVQgBAQICAf8DSgAwRwJAW2sNKK9AVtBzYZmr6aGjlWyK3XmZv3dTINen TWSM7vrzLADbmYQaionwg5sDW3P6oaM5D3tdezXMm7z1T+B+twIDAQAB MIC-Info: RSA-MD5,RSA, Al25iIaXlpnFNWre1n1DJ/93Q+NfhpXXgTyIs1hElOMY0LrThHcSftziYzffvim9 s6iplhsz696PgT0U9aKqiQ== 0000950144-99-008874.txt : 19990716 0000950144-99-008874.hdr.sgml : 19990716 ACCESSION NUMBER: 0000950144-99-008874 CONFORMED SUBMISSION TYPE: S-1/A PUBLIC DOCUMENT COUNT: 3 FILED AS OF DATE: 19990715 FILER: COMPANY DATA: COMPANY CONFORMED NAME: PARADYNE NETWORKS INC CENTRAL INDEX KEY: 0000076174 STANDARD INDUSTRIAL CLASSIFICATION: ELECTRONIC COMPONENTS & ACCESSORIES [3670] IRS NUMBER: 520891723 STATE OF INCORPORATION: DE FISCAL YEAR END: 1231 FILING VALUES: FORM TYPE: S-1/A SEC ACT: SEC FILE NUMBER: 333-76385 FILM NUMBER: 99664780 BUSINESS ADDRESS: STREET 1: 8545 126TH AVE NORTH STREET 2: '\n",
    "''.join(e for e in a if e.isalnum())\n",
    "print a\n"
   ]
  },
  {
   "cell_type": "code",
   "execution_count": 86,
   "metadata": {
    "collapsed": false
   },
   "outputs": [],
   "source": []
  },
  {
   "cell_type": "code",
   "execution_count": 87,
   "metadata": {
    "collapsed": false
   },
   "outputs": [
    {
     "name": "stdout",
     "output_type": "stream",
     "text": [
      "BEGIN PRIVACYENHANCED MESSAGE ProcType. 2001,MICCLEAR OriginatorName webmaster@www.sec.gov OriginatorKeyAsymmetric MFgwCgYEVQgBAQICAf8DSgAwRwJAW2sNKK9AVtBzYZmr6aGjlWyK3XmZv3dTINen TWSM7vrzLADbmYQaionwg5sDW3P6oaM5D3tdezXMm7z1TBtwIDAQAB MICInfo RSAMD5,RSA, Al25iIaXlpnFNWre1n1DJ93QNfhpXXgTyIs1hElOMY0LrThHcSftziYzffvim9 s6iplhsz696PgT0U9aKqiQ 000095014499008874.txt  19990716 000095014499008874.hdr.sgml  19990716 ACCESSION NUMBER 000095014499008874 CONFORMED SUBMISSION TYPE S1A PUBLIC DOCUMENT COUNT 3 FILED AS OF DATE 19990715 FILER COMPANY DATA COMPANY CONFORMED NAME PARADYNE NETWORKS INC CENTRAL INDEX KEY 0000076174 STANDARD INDUSTRIAL CLASSIFICATION ELECTRONIC COMPONENTS & ACCESSORIES [3670] IRS NUMBER 520891723 STATE OF INCORPORATION DE FISCAL YEAR END 1231 FILING VALUES FORM TYPE S1A SEC ACT SEC FILE NUMBER 33376385 FILM NUMBER 99664780 BUSINESS ADDRESS STREET 1 8545 126TH AVE NORTH STREET 2 \n"
     ]
    }
   ],
   "source": [
    "print nstr"
   ]
  },
  {
   "cell_type": "code",
   "execution_count": 88,
   "metadata": {
    "collapsed": true
   },
   "outputs": [],
   "source": []
  },
  {
   "cell_type": "code",
   "execution_count": 89,
   "metadata": {
    "collapsed": false
   },
   "outputs": [
    {
     "name": "stdout",
     "output_type": "stream",
     "text": [
      "BEGIN PRIVACYENHANCED MESSAGE ProcType. 2001,MICCLEAR OriginatorName webmaster@www.sec.gov OriginatorKeyAsymmetric MFgwCgYEVQgBAQICAf8DSgAwRwJAW2sNKK9AVtBzYZmr6aGjlWyK3XmZv3dTINen TWSM7vrzLADbmYQaionwg5sDW3P6oaM5D3tdezXMm7z1TBtwIDAQAB MICInfo RSAMD5,RSA, Al25iIaXlpnFNWre1n1DJ93QNfhpXXgTyIs1hElOMY0LrThHcSftziYzffvim9 s6iplhsz696PgT0U9aKqiQ 000095014499008874.txt 19990716 000095014499008874.hdr.sgml 19990716 ACCESSION NUMBER 000095014499008874 CONFORMED SUBMISSION TYPE S1A PUBLIC DOCUMENT COUNT FILED AS OF DATE 19990715 FILER COMPANY DATA COMPANY CONFORMED NAME PARADYNE NETWORKS INC CENTRAL INDEX KEY 0000076174 STANDARD INDUSTRIAL CLASSIFICATION ELECTRONIC COMPONENTS ACCESSORIES [3670] IRS NUMBER 520891723 STATE OF INCORPORATION DE FISCAL YEAR END 1231 FILING VALUES FORM TYPE S1A SEC ACT SEC FILE NUMBER 33376385 FILM NUMBER 99664780 BUSINESS ADDRESS STREET 8545 126TH AVE NORTH STREET \n"
     ]
    }
   ],
   "source": [
    "print nstr"
   ]
  },
  {
   "cell_type": "code",
   "execution_count": 90,
   "metadata": {
    "collapsed": false
   },
   "outputs": [
    {
     "name": "stdout",
     "output_type": "stream",
     "text": [
      "BEGIN PRIVACYENHANCED MESSAGE ProcType. 2001,MICCLEAR OriginatorName webmaster@www.sec.gov       MICInfo RSAMD5,RSA,      .txt 19990716  .hdr.sgml 19990716 ACCESSION NUMBER   CONFORMED SUBMISSION TYPE S1A PUBLIC DOCUMENT COUNT FILED AS OF DATE 19990715 FILER COMPANY DATA COMPANY CONFORMED NAME PARADYNE NETWORKS INC CENTRAL INDEX KEY 0000076174 STANDARD INDUSTRIAL CLASSIFICATION ELECTRONIC COMPONENTS ACCESSORIES [3670] IRS NUMBER 520891723 STATE OF INCORPORATION DE FISCAL YEAR END 1231 FILING VALUES FORM TYPE S1A SEC ACT SEC FILE NUMBER 33376385 FILM NUMBER 99664780 BUSINESS ADDRESS STREET 8545 126TH AVE NORTH STREET \n"
     ]
    }
   ],
   "source": [
    "\n",
    "print nstr"
   ]
  },
  {
   "cell_type": "code",
   "execution_count": null,
   "metadata": {
    "collapsed": true
   },
   "outputs": [],
   "source": []
  },
  {
   "cell_type": "code",
   "execution_count": null,
   "metadata": {
    "collapsed": true
   },
   "outputs": [],
   "source": []
  }
 ],
 "metadata": {
  "kernelspec": {
   "display_name": "Python 2",
   "language": "python",
   "name": "python2"
  },
  "language_info": {
   "codemirror_mode": {
    "name": "ipython",
    "version": 2
   },
   "file_extension": ".py",
   "mimetype": "text/x-python",
   "name": "python",
   "nbconvert_exporter": "python",
   "pygments_lexer": "ipython2",
   "version": "2.7.10"
  }
 },
 "nbformat": 4,
 "nbformat_minor": 0
}

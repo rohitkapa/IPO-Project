{
 "cells": [
  {
   "cell_type": "code",
   "execution_count": 2,
   "metadata": {
    "collapsed": true
   },
   "outputs": [],
   "source": [
    "from bs4 import BeautifulSoup\n",
    "import urllib2\n",
    "import pandas as pd\n",
    "import csv\n",
    "import re\n",
    "\n"
   ]
  },
  {
   "cell_type": "code",
   "execution_count": 28,
   "metadata": {
    "collapsed": false
   },
   "outputs": [],
   "source": [
    "\n",
    "\n",
    "#scrapedata_cik=[name[:-4] for name in scrapedata_cik]"
   ]
  },
  {
   "cell_type": "code",
   "execution_count": 11,
   "metadata": {
    "collapsed": false
   },
   "outputs": [
    {
     "name": "stdout",
     "output_type": "stream",
     "text": [
      "x\n",
      "x\n"
     ]
    },
    {
     "ename": "KeyboardInterrupt",
     "evalue": "",
     "output_type": "error",
     "traceback": [
      "\u001b[1;31m---------------------------------------------------------------------------\u001b[0m",
      "\u001b[1;31mKeyboardInterrupt\u001b[0m                         Traceback (most recent call last)",
      "\u001b[1;32m<ipython-input-11-b2f799a2d610>\u001b[0m in \u001b[0;36m<module>\u001b[1;34m()\u001b[0m\n\u001b[0;32m     10\u001b[0m \u001b[1;33m\u001b[0m\u001b[0m\n\u001b[0;32m     11\u001b[0m     \u001b[1;32mfor\u001b[0m \u001b[0mi\u001b[0m \u001b[1;32min\u001b[0m \u001b[0mrange\u001b[0m\u001b[1;33m(\u001b[0m\u001b[1;36m46\u001b[0m\u001b[1;33m,\u001b[0m\u001b[0mlen\u001b[0m\u001b[1;33m(\u001b[0m\u001b[0mscrapedata_cik\u001b[0m\u001b[1;33m)\u001b[0m\u001b[1;33m)\u001b[0m\u001b[1;33m:\u001b[0m\u001b[1;33m\u001b[0m\u001b[0m\n\u001b[1;32m---> 12\u001b[1;33m         \u001b[0mtime\u001b[0m\u001b[1;33m.\u001b[0m\u001b[0msleep\u001b[0m\u001b[1;33m(\u001b[0m\u001b[0mrandom\u001b[0m\u001b[1;33m.\u001b[0m\u001b[0mrandint\u001b[0m\u001b[1;33m(\u001b[0m\u001b[1;36m1\u001b[0m\u001b[1;33m,\u001b[0m\u001b[1;36m82\u001b[0m\u001b[1;33m)\u001b[0m\u001b[1;33m)\u001b[0m\u001b[1;33m\u001b[0m\u001b[0m\n\u001b[0m\u001b[0;32m     13\u001b[0m         \u001b[0mcik\u001b[0m\u001b[1;33m=\u001b[0m\u001b[1;33m(\u001b[0m\u001b[1;34m'0000000000'\u001b[0m\u001b[1;33m+\u001b[0m\u001b[0mscrapedata_cik\u001b[0m\u001b[1;33m[\u001b[0m\u001b[0mi\u001b[0m\u001b[1;33m]\u001b[0m\u001b[1;33m)\u001b[0m\u001b[1;33m[\u001b[0m\u001b[1;33m-\u001b[0m\u001b[1;36m10\u001b[0m\u001b[1;33m:\u001b[0m\u001b[1;33m]\u001b[0m\u001b[1;33m\u001b[0m\u001b[0m\n\u001b[0;32m     14\u001b[0m         \u001b[0mdd\u001b[0m\u001b[1;33m=\u001b[0m\u001b[1;33m(\u001b[0m\u001b[1;34m'00'\u001b[0m\u001b[1;33m+\u001b[0m\u001b[0mscrapedata_offerdate\u001b[0m\u001b[1;33m[\u001b[0m\u001b[0mi\u001b[0m\u001b[1;33m]\u001b[0m\u001b[1;33m.\u001b[0m\u001b[0msplit\u001b[0m\u001b[1;33m(\u001b[0m\u001b[1;34m'/'\u001b[0m\u001b[1;33m)\u001b[0m\u001b[1;33m[\u001b[0m\u001b[1;36m0\u001b[0m\u001b[1;33m]\u001b[0m\u001b[1;33m)\u001b[0m\u001b[1;33m[\u001b[0m\u001b[1;33m-\u001b[0m\u001b[1;36m2\u001b[0m\u001b[1;33m:\u001b[0m\u001b[1;33m]\u001b[0m\u001b[1;33m\u001b[0m\u001b[0m\n",
      "\u001b[1;31mKeyboardInterrupt\u001b[0m: "
     ]
    }
   ],
   "source": [
    "scrapedata=pd.read_csv('remaining_errordata.csv')\n",
    "scrapedata_cik=scrapedata['cik'].tolist()\n",
    "scrapedata_cik=[int(i) for i in scrapedata_cik]\n",
    "scrapedata_cik=[str(i) for i in scrapedata_cik]\n",
    "scrapedata_offerdate=scrapedata['offerdate'].tolist()\n",
    "\n",
    "import random, time\n",
    "sum1=0\n",
    "for x in range(640):\n",
    "    \n",
    "    for i in range(46,len(scrapedata_cik)):\n",
    "        time.sleep(random.randint(1,82))\n",
    "        cik=('0000000000'+scrapedata_cik[i])[-10:]\n",
    "        dd=('00'+scrapedata_offerdate[i].split('/')[0])[-2:]\n",
    "        mm=('00'+scrapedata_offerdate[i].split('/')[1])[-2:]\n",
    "        yyyy=('0000'+scrapedata_offerdate[i].split('/')[2])[-4:]\n",
    "        date=yyyy+mm+dd\n",
    "        mysecextract(cik,date)\n",
    "\n",
    "    print 'x'\n",
    "\n",
    "    "
   ]
  },
  {
   "cell_type": "code",
   "execution_count": 5,
   "metadata": {
    "collapsed": false
   },
   "outputs": [],
   "source": [
    "def mysecextract(cik,date):\n",
    "    weburl='http://www.sec.gov/cgi-bin/browse-edgar?action=getcompany&CIK='+cik+'&type=S-1&dateb=&owner=exclude&count=100'\n",
    "    page=urllib2.urlopen(weburl)\n",
    "    soup=BeautifulSoup(page.read())\n",
    "    table = soup.find(\"table\", attrs = {\"class\":\"tableFile2\"})\n",
    "    rows = table.findAll('tr')\n",
    "    data = [[td.findChildren for td in tr.findAll(\"td\")] for tr in rows]\n",
    "    \n",
    "    try:\n",
    "        data2= str(data[1])\n",
    "        size=re.findall('Size: (.*?)B', data2)\n",
    "        size=size[0]\n",
    "        html1= re.findall('href=(.*?) id', data2)\n",
    "        if size[-1:]=='M' or int(size[:-2])>100:\n",
    "            data2= str(data[1])\n",
    "        else:\n",
    "            data2= str(data[2])\n",
    "    except:\n",
    "        try:\n",
    "            weburl='http://www.sec.gov/cgi-bin/browse-edgar?action=getcompany&CIK='+cik+'&type=S-2&dateb=&owner=exclude&count=100'\n",
    "            page=urllib2.urlopen(weburl)\n",
    "            soup=BeautifulSoup(page.read())\n",
    "            table = soup.find(\"table\", attrs = {\"class\":\"tableFile2\"})\n",
    "            rows = table.findAll('tr')\n",
    "            data = [[td.findChildren for td in tr.findAll(\"td\")] for tr in rows]\n",
    "            data2= str(data[1])\n",
    "        except:\n",
    "            print cik\n",
    "            return\n",
    "   \n",
    "\n",
    "    html1= re.findall('href=(.*?) id', data2)\n",
    "    html1= str(html1)\n",
    "    html1= html1[3:-3]\n",
    "    weburl1='http://www.sec.gov'+html1\n",
    "    page1=urllib2.urlopen(weburl1)\n",
    "    soup1=BeautifulSoup(page1.read())\n",
    "    table1= soup1.find(\"table\", attrs = {\"class\":\"tableFile\"})\n",
    "    html2= (table1.find_all('a'))\n",
    "    weburl3= 'http://www.sec.gov'+ html2[len(html2)-1]['href']\n",
    "    page3=urllib2.urlopen(weburl3)\n",
    "    file_name=cik+'.txt'\n",
    "    with open(file_name, 'w') as f:\n",
    "        f.write(page3.read())\n"
   ]
  },
  {
   "cell_type": "code",
   "execution_count": 14,
   "metadata": {
    "collapsed": false
   },
   "outputs": [
    {
     "ename": "IndexError",
     "evalue": "list index out of range",
     "output_type": "error",
     "traceback": [
      "\u001b[1;31m---------------------------------------------------------------------------\u001b[0m",
      "\u001b[1;31mIndexError\u001b[0m                                Traceback (most recent call last)",
      "\u001b[1;32m<ipython-input-14-9cf3177df729>\u001b[0m in \u001b[0;36m<module>\u001b[1;34m()\u001b[0m\n\u001b[0;32m      1\u001b[0m \u001b[1;33m\u001b[0m\u001b[0m\n\u001b[1;32m----> 2\u001b[1;33m \u001b[0mmysecextract\u001b[0m\u001b[1;33m(\u001b[0m\u001b[1;34m'1021917'\u001b[0m\u001b[1;33m,\u001b[0m\u001b[1;34m'20010203'\u001b[0m\u001b[1;33m)\u001b[0m\u001b[1;33m\u001b[0m\u001b[0m\n\u001b[0m",
      "\u001b[1;32m<ipython-input-4-2df7a5228bc8>\u001b[0m in \u001b[0;36mmysecextract\u001b[1;34m(cik, date)\u001b[0m\n\u001b[0;32m     27\u001b[0m         \u001b[0mdata2\u001b[0m\u001b[1;33m=\u001b[0m \u001b[0mstr\u001b[0m\u001b[1;33m(\u001b[0m\u001b[0mdata\u001b[0m\u001b[1;33m[\u001b[0m\u001b[1;36m1\u001b[0m\u001b[1;33m]\u001b[0m\u001b[1;33m)\u001b[0m\u001b[1;33m\u001b[0m\u001b[0m\n\u001b[0;32m     28\u001b[0m     \u001b[1;32melse\u001b[0m\u001b[1;33m:\u001b[0m\u001b[1;33m\u001b[0m\u001b[0m\n\u001b[1;32m---> 29\u001b[1;33m         \u001b[0mdata2\u001b[0m\u001b[1;33m=\u001b[0m \u001b[0mstr\u001b[0m\u001b[1;33m(\u001b[0m\u001b[0mdata\u001b[0m\u001b[1;33m[\u001b[0m\u001b[1;36m2\u001b[0m\u001b[1;33m]\u001b[0m\u001b[1;33m)\u001b[0m\u001b[1;33m\u001b[0m\u001b[0m\n\u001b[0m\u001b[0;32m     30\u001b[0m \u001b[1;33m\u001b[0m\u001b[0m\n\u001b[0;32m     31\u001b[0m     \u001b[0mhtml1\u001b[0m\u001b[1;33m=\u001b[0m \u001b[0mre\u001b[0m\u001b[1;33m.\u001b[0m\u001b[0mfindall\u001b[0m\u001b[1;33m(\u001b[0m\u001b[1;34m'href=(.*?) id'\u001b[0m\u001b[1;33m,\u001b[0m \u001b[0mdata2\u001b[0m\u001b[1;33m)\u001b[0m\u001b[1;33m\u001b[0m\u001b[0m\n",
      "\u001b[1;31mIndexError\u001b[0m: list index out of range"
     ]
    }
   ],
   "source": [
    "\n",
    "mysecextract('1021917','20010203')"
   ]
  },
  {
   "cell_type": "code",
   "execution_count": null,
   "metadata": {
    "collapsed": true
   },
   "outputs": [],
   "source": []
  },
  {
   "cell_type": "code",
   "execution_count": null,
   "metadata": {
    "collapsed": true
   },
   "outputs": [],
   "source": []
  }
 ],
 "metadata": {
  "kernelspec": {
   "display_name": "Python 2",
   "language": "python",
   "name": "python2"
  },
  "language_info": {
   "codemirror_mode": {
    "name": "ipython",
    "version": 2
   },
   "file_extension": ".py",
   "mimetype": "text/x-python",
   "name": "python",
   "nbconvert_exporter": "python",
   "pygments_lexer": "ipython2",
   "version": "2.7.10"
  }
 },
 "nbformat": 4,
 "nbformat_minor": 0
}

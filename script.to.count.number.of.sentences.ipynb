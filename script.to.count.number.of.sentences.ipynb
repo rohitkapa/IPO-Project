{
 "cells": [
  {
   "cell_type": "code",
   "execution_count": 31,
   "metadata": {
    "collapsed": true
   },
   "outputs": [],
   "source": [
    "import re, math, sys,os,string\n",
    "from collections import Counter\n",
    "import nltk\n",
    "import pandas as pd\n",
    "from sklearn.metrics.pairwise import linear_kernel\n",
    "import sklearn\n",
    "from sklearn.feature_extraction.text import TfidfVectorizer\n",
    "from sklearn.metrics.pairwise import cosine_similarity\n",
    "import pandas as pd\n",
    "from nltk.corpus import stopwords\n",
    "cachedStopWords = stopwords.words(\"english\")\n",
    "##punctuation = re.compile(r'[-?!,\":;()|0-9]')"
   ]
  },
  {
   "cell_type": "code",
   "execution_count": 32,
   "metadata": {
    "collapsed": false
   },
   "outputs": [],
   "source": [
    "list1=[]\n",
    "path = \"C:/Users/rohit/Documents/IPO Project/useofproceeds\"\n",
    "os.chdir(path)\n",
    "dirs = os.listdir(path)\n",
    "z=0\n",
    "for file in dirs:\n",
    "    ##print os.getcwd()\n",
    "    with open (file, \"r\") as myfile:\n",
    "        ##print myfile\n",
    "        text1=myfile.read()\n",
    "        text1=text1.lower()\n",
    "        text1 = ''.join([i for i in text1 if not i.isdigit()])\n",
    "        text1=re.sub(r\"['_,!\\-\\\"\\\\\\/}{?})(]\",'',text1).strip()\n",
    "        text1 = ' '.join([word for word in text1.split() if word not in cachedStopWords])\n",
    "        list1.append(text1)\n",
    "for jaffa in range(0,len(list1)):\n",
    "    list1[jaffa]=nltk.sent_tokenize(list1[jaffa])\n"
   ]
  },
  {
   "cell_type": "code",
   "execution_count": 33,
   "metadata": {
    "collapsed": false
   },
   "outputs": [],
   "source": [
    "for daffa in range(0,len(list1)):\n",
    "    for baffa in range(0,(len(list1[daffa]))):\n",
    "        try:\n",
    "            if str(list1[daffa][baffa])=='.':\n",
    "                del(list1[daffa][baffa])\n",
    "            if str(list1[daffa][baffa][0:3])=='see':\n",
    "                del(list1[daffa][baffa])\n",
    "        except:\n",
    "            break"
   ]
  },
  {
   "cell_type": "code",
   "execution_count": 34,
   "metadata": {
    "collapsed": false
   },
   "outputs": [],
   "source": [
    "df1=pd.DataFrame(columns=('count1','cik'))\n",
    "for i in range(0,len(list1)):\n",
    "    count=len(list1[i])\n",
    "    df1.loc[len(df1)+1]=[count,'0']\n",
    "df1.to_csv('upcount.csv')"
   ]
  },
  {
   "cell_type": "code",
   "execution_count": 29,
   "metadata": {
    "collapsed": false
   },
   "outputs": [
    {
     "ename": "TypeError",
     "evalue": "'type' object has no attribute '__getitem__'",
     "output_type": "error",
     "traceback": [
      "\u001b[1;31m---------------------------------------------------------------------------\u001b[0m",
      "\u001b[1;31mTypeError\u001b[0m                                 Traceback (most recent call last)",
      "\u001b[1;32m<ipython-input-29-a7ee82ac97e7>\u001b[0m in \u001b[0;36m<module>\u001b[1;34m()\u001b[0m\n\u001b[1;32m----> 1\u001b[1;33m \u001b[0mlen\u001b[0m\u001b[1;33m(\u001b[0m\u001b[0mlist\u001b[0m\u001b[1;33m[\u001b[0m\u001b[1;36m0\u001b[0m\u001b[1;33m]\u001b[0m\u001b[1;33m)\u001b[0m\u001b[1;33m\u001b[0m\u001b[0m\n\u001b[0m",
      "\u001b[1;31mTypeError\u001b[0m: 'type' object has no attribute '__getitem__'"
     ]
    }
   ],
   "source": []
  },
  {
   "cell_type": "code",
   "execution_count": null,
   "metadata": {
    "collapsed": true
   },
   "outputs": [],
   "source": []
  }
 ],
 "metadata": {
  "kernelspec": {
   "display_name": "Python 2",
   "language": "python",
   "name": "python2"
  },
  "language_info": {
   "codemirror_mode": {
    "name": "ipython",
    "version": 2
   },
   "file_extension": ".py",
   "mimetype": "text/x-python",
   "name": "python",
   "nbconvert_exporter": "python",
   "pygments_lexer": "ipython2",
   "version": "2.7.10"
  }
 },
 "nbformat": 4,
 "nbformat_minor": 0
}

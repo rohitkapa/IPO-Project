{
 "cells": [
  {
   "cell_type": "code",
   "execution_count": 1,
   "metadata": {
    "collapsed": true
   },
   "outputs": [],
   "source": [
    "import re,os,sys,pandas as pd"
   ]
  },
  {
   "cell_type": "code",
   "execution_count": 2,
   "metadata": {
    "collapsed": false
   },
   "outputs": [],
   "source": [
    "path=\"C:/Users/rohit/Documents/IPO Project/scraped 970 files\"\n",
    "os.chdir(path)\n",
    "dirs=os.listdir(path)\n",
    "for file in dirs:\n",
    "    with open(file,\"r\") as myfile:\n",
    "        text=myfile.read()\n",
    "        ipotype=re.findall(r'CONFORMED SUBMISSION TYPE:(.*?)PUBLIC DOC',text,re.DOTALL)\n",
    "        a=pd.DataFrame(columns=('filetype','cik'))\n",
    "        try:\n",
    "            a=a.append({'filetype':ipotype,'cik':myfile.name[:-4]},ignore_index=True) \n",
    "        except:\n",
    "            a=a.append({'filetype':'noinfo','cik':myfile.name[:-4]},ignore_index=True)\n",
    "            \n",
    "        write1= open('ciklist.txt','a')\n",
    "        write1.write(str(ipotype))\n",
    "        write1.write(myfile.name[:-4])\n",
    "        write1.write('\\n')\n",
    "        write1.close()\n",
    "        "
   ]
  },
  {
   "cell_type": "code",
   "execution_count": 3,
   "metadata": {
    "collapsed": false
   },
   "outputs": [],
   "source": [
    "import csv\n",
    "with open('ciklist2.csv', 'wb') as f:\n",
    "    writer = csv.writer(f)\n",
    "    writer.writerows(str(ipotype)+myfile.name[:-4])"
   ]
  },
  {
   "cell_type": "code",
   "execution_count": 4,
   "metadata": {
    "collapsed": true
   },
   "outputs": [],
   "source": [
    "f.close()"
   ]
  },
  {
   "cell_type": "code",
   "execution_count": null,
   "metadata": {
    "collapsed": true
   },
   "outputs": [],
   "source": []
  }
 ],
 "metadata": {
  "kernelspec": {
   "display_name": "Python 2",
   "language": "python",
   "name": "python2"
  },
  "language_info": {
   "codemirror_mode": {
    "name": "ipython",
    "version": 2
   },
   "file_extension": ".py",
   "mimetype": "text/x-python",
   "name": "python",
   "nbconvert_exporter": "python",
   "pygments_lexer": "ipython2",
   "version": "2.7.10"
  }
 },
 "nbformat": 4,
 "nbformat_minor": 0
}

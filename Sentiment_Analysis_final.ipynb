{
 "cells": [
  {
   "cell_type": "code",
   "execution_count": 4,
   "metadata": {
    "collapsed": true
   },
   "outputs": [],
   "source": [
    "import matplotlib.pyplot as plt\n",
    "import numpy as np \n",
    "import pandas as pd \n",
    "from collections import defaultdict\n",
    "from nltk.corpus import stopwords\n",
    "from pattern.en import sentiment\n",
    "from pattern.en import parse, split, wordnet\n",
    "from random import seed  \n",
    "from sklearn.feature_extraction.text import TfidfVectorizer, CountVectorizer\n",
    "from textblob import TextBlob\n",
    "import re\n",
    "import os\n",
    "from nltk import tokenize"
   ]
  },
  {
   "cell_type": "code",
   "execution_count": 11,
   "metadata": {
    "collapsed": true
   },
   "outputs": [],
   "source": [
    "df=pd.DataFrame(columns=('CIK','positivity','poscount','negativity','negcount','neutrality','neutcount','subjectivity','pattern_subjectivity'))"
   ]
  },
  {
   "cell_type": "code",
   "execution_count": 13,
   "metadata": {
    "collapsed": false
   },
   "outputs": [],
   "source": [
    "path = \"C:/Users/rohit/Documents/IPO Project/riskfactors\"\n",
    "os.chdir(path)\n",
    "dirs = os.listdir(path)\n",
    "z=0\n",
    "for file in dirs:\n",
    "    ##print os.getcwd()\n",
    "    with open (file, \"r\") as myfile:\n",
    "        ##print myfile\n",
    "        text1=myfile.read()\n",
    "        data1=text1.replace(\"\\\"\",\"\")\n",
    "        sentence=tokenize.sent_tokenize(data1)\n",
    "        neg=0\n",
    "        neut=0\n",
    "        pos=0\n",
    "        negcount=0\n",
    "        neutcount=0\n",
    "        poscount=0\n",
    "        subcount=0\n",
    "        subc=0\n",
    "        pattern_subcount = 0\n",
    "        for i in range(0,len(sentence)):\n",
    "            sent = TextBlob(sentence[i])\n",
    "            pol=sent.sentiment.polarity\n",
    "            sub=sent.sentiment.subjectivity\n",
    "            if pol <= -0.2:\n",
    "                neg=pol+neg\n",
    "                negcount=negcount+1\n",
    "            if ((pol> -0.2) & (pol<0.2)):\n",
    "                neut=pol+neut\n",
    "                neutcount=neutcount+1\n",
    "            if pol >= 0.2:\n",
    "                pos=pol+pos\n",
    "                poscount=poscount+1\n",
    "            if sub>=0.3:\n",
    "                subc=subc+1\n",
    "            subcount=sub+subcount\n",
    "            pattern_subcount= float(sentiment(sentence[i])[1])+pattern_subcount\n",
    "            \n",
    "        try:\n",
    "            totalneg= neg/negcount\n",
    "            totalneut=neut/neutcount\n",
    "            totalpos=pos/poscount\n",
    "            totalsub=subcount/(len(sentence))\n",
    "            totalpattern_sub=pattern_subcount/(len(sentence))\n",
    "            \n",
    "        except:\n",
    "            negcount=negcount+1\n",
    "            poscount=poscount+1\n",
    "            neutcount=neutcount+1\n",
    "            subcount=subcount+1\n",
    "            totalneg= neg/negcount\n",
    "            totalneut=neut/neutcount\n",
    "            totalpos=pos/poscount\n",
    "            totalsub=subcount/(len(sentence))\n",
    "            \n",
    "            \n",
    "        filename=file.lstrip('0')\n",
    "        filename=filename[:-13]\n",
    "        \n",
    "        ##print totalpos,poscount, totalneg,negcount, totalneut,neutcount\n",
    "        ##'positivity','poscount','negativity','negcount','neutrality','neutcount','subjectivity'\n",
    "        df=df.append({'CIK':file[:-4],'positivity':totalpos,'poscount':poscount,'negativity':totalneg,'negcount':negcount,'neutrality':totalneut,'neutcount':neutcount,'subjectivity':totalsub,'pattern_subjectivity':totalpattern_sub},ignore_index=True)\n",
    "        \n",
    "        "
   ]
  },
  {
   "cell_type": "code",
   "execution_count": null,
   "metadata": {
    "collapsed": false
   },
   "outputs": [],
   "source": []
  },
  {
   "cell_type": "code",
   "execution_count": 14,
   "metadata": {
    "collapsed": true
   },
   "outputs": [],
   "source": [
    "df.to_excel('rf_other_subj_score.xlsx')"
   ]
  },
  {
   "cell_type": "code",
   "execution_count": 3,
   "metadata": {
    "collapsed": false
   },
   "outputs": [
    {
     "ename": "Exception",
     "evalue": "String longer than 32767 characters",
     "output_type": "error",
     "traceback": [
      "\u001b[1;31m---------------------------------------------------------------------------\u001b[0m",
      "\u001b[1;31mException\u001b[0m                                 Traceback (most recent call last)",
      "\u001b[1;32m<ipython-input-3-93d8b91046ec>\u001b[0m in \u001b[0;36m<module>\u001b[1;34m()\u001b[0m\n\u001b[0;32m     34\u001b[0m         \u001b[1;31m##print totalpos,poscount, totalneg,negcount, totalneut,neutcount\u001b[0m\u001b[1;33m\u001b[0m\u001b[1;33m\u001b[0m\u001b[0m\n\u001b[0;32m     35\u001b[0m         \u001b[1;31m##'positivity','poscount','negativity','negcount','neutrality','neutcount','subjectivity'\u001b[0m\u001b[1;33m\u001b[0m\u001b[1;33m\u001b[0m\u001b[0m\n\u001b[1;32m---> 36\u001b[1;33m \u001b[0mdf\u001b[0m\u001b[1;33m.\u001b[0m\u001b[0mto_excel\u001b[0m\u001b[1;33m(\u001b[0m\u001b[1;34m'rf_subjectivesentence_fulldatacikwise.xls'\u001b[0m\u001b[1;33m)\u001b[0m\u001b[1;33m\u001b[0m\u001b[0m\n\u001b[0m\u001b[0;32m     37\u001b[0m \u001b[1;33m\u001b[0m\u001b[0m\n\u001b[0;32m     38\u001b[0m \u001b[1;33m\u001b[0m\u001b[0m\n",
      "\u001b[1;32mC:\\Users\\rohit\\Anaconda\\lib\\site-packages\\pandas\\core\\frame.pyc\u001b[0m in \u001b[0;36mto_excel\u001b[1;34m(self, excel_writer, sheet_name, na_rep, float_format, columns, header, index, index_label, startrow, startcol, engine, merge_cells, encoding, inf_rep)\u001b[0m\n\u001b[0;32m   1274\u001b[0m                                  startrow=startrow, startcol=startcol)\n\u001b[0;32m   1275\u001b[0m         \u001b[1;32mif\u001b[0m \u001b[0mneed_save\u001b[0m\u001b[1;33m:\u001b[0m\u001b[1;33m\u001b[0m\u001b[0m\n\u001b[1;32m-> 1276\u001b[1;33m             \u001b[0mexcel_writer\u001b[0m\u001b[1;33m.\u001b[0m\u001b[0msave\u001b[0m\u001b[1;33m(\u001b[0m\u001b[1;33m)\u001b[0m\u001b[1;33m\u001b[0m\u001b[0m\n\u001b[0m\u001b[0;32m   1277\u001b[0m \u001b[1;33m\u001b[0m\u001b[0m\n\u001b[0;32m   1278\u001b[0m     def to_stata(\n",
      "\u001b[1;32mC:\\Users\\rohit\\Anaconda\\lib\\site-packages\\pandas\\io\\excel.pyc\u001b[0m in \u001b[0;36msave\u001b[1;34m(self)\u001b[0m\n\u001b[0;32m   1173\u001b[0m         \u001b[0mSave\u001b[0m \u001b[0mworkbook\u001b[0m \u001b[0mto\u001b[0m \u001b[0mdisk\u001b[0m\u001b[1;33m.\u001b[0m\u001b[1;33m\u001b[0m\u001b[0m\n\u001b[0;32m   1174\u001b[0m         \"\"\"\n\u001b[1;32m-> 1175\u001b[1;33m         \u001b[1;32mreturn\u001b[0m \u001b[0mself\u001b[0m\u001b[1;33m.\u001b[0m\u001b[0mbook\u001b[0m\u001b[1;33m.\u001b[0m\u001b[0msave\u001b[0m\u001b[1;33m(\u001b[0m\u001b[0mself\u001b[0m\u001b[1;33m.\u001b[0m\u001b[0mpath\u001b[0m\u001b[1;33m)\u001b[0m\u001b[1;33m\u001b[0m\u001b[0m\n\u001b[0m\u001b[0;32m   1176\u001b[0m \u001b[1;33m\u001b[0m\u001b[0m\n\u001b[0;32m   1177\u001b[0m     \u001b[1;32mdef\u001b[0m \u001b[0mwrite_cells\u001b[0m\u001b[1;33m(\u001b[0m\u001b[0mself\u001b[0m\u001b[1;33m,\u001b[0m \u001b[0mcells\u001b[0m\u001b[1;33m,\u001b[0m \u001b[0msheet_name\u001b[0m\u001b[1;33m=\u001b[0m\u001b[0mNone\u001b[0m\u001b[1;33m,\u001b[0m \u001b[0mstartrow\u001b[0m\u001b[1;33m=\u001b[0m\u001b[1;36m0\u001b[0m\u001b[1;33m,\u001b[0m \u001b[0mstartcol\u001b[0m\u001b[1;33m=\u001b[0m\u001b[1;36m0\u001b[0m\u001b[1;33m)\u001b[0m\u001b[1;33m:\u001b[0m\u001b[1;33m\u001b[0m\u001b[0m\n",
      "\u001b[1;32mC:\\Users\\rohit\\Anaconda\\lib\\site-packages\\xlwt\\Workbook.pyc\u001b[0m in \u001b[0;36msave\u001b[1;34m(self, filename_or_stream)\u001b[0m\n\u001b[0;32m    694\u001b[0m \u001b[1;33m\u001b[0m\u001b[0m\n\u001b[0;32m    695\u001b[0m         \u001b[0mdoc\u001b[0m \u001b[1;33m=\u001b[0m \u001b[0mCompoundDoc\u001b[0m\u001b[1;33m.\u001b[0m\u001b[0mXlsDoc\u001b[0m\u001b[1;33m(\u001b[0m\u001b[1;33m)\u001b[0m\u001b[1;33m\u001b[0m\u001b[0m\n\u001b[1;32m--> 696\u001b[1;33m         \u001b[0mdoc\u001b[0m\u001b[1;33m.\u001b[0m\u001b[0msave\u001b[0m\u001b[1;33m(\u001b[0m\u001b[0mfilename_or_stream\u001b[0m\u001b[1;33m,\u001b[0m \u001b[0mself\u001b[0m\u001b[1;33m.\u001b[0m\u001b[0mget_biff_data\u001b[0m\u001b[1;33m(\u001b[0m\u001b[1;33m)\u001b[0m\u001b[1;33m)\u001b[0m\u001b[1;33m\u001b[0m\u001b[0m\n\u001b[0m\u001b[0;32m    697\u001b[0m \u001b[1;33m\u001b[0m\u001b[0m\n\u001b[0;32m    698\u001b[0m \u001b[1;33m\u001b[0m\u001b[0m\n",
      "\u001b[1;32mC:\\Users\\rohit\\Anaconda\\lib\\site-packages\\xlwt\\Workbook.pyc\u001b[0m in \u001b[0;36mget_biff_data\u001b[1;34m(self)\u001b[0m\n\u001b[0;32m    658\u001b[0m         \u001b[0mall_links\u001b[0m          \u001b[1;33m=\u001b[0m \u001b[0mself\u001b[0m\u001b[1;33m.\u001b[0m\u001b[0m__all_links_rec\u001b[0m\u001b[1;33m(\u001b[0m\u001b[1;33m)\u001b[0m\u001b[1;33m\u001b[0m\u001b[0m\n\u001b[0;32m    659\u001b[0m \u001b[1;33m\u001b[0m\u001b[0m\n\u001b[1;32m--> 660\u001b[1;33m         \u001b[0mshared_str_table\u001b[0m   \u001b[1;33m=\u001b[0m \u001b[0mself\u001b[0m\u001b[1;33m.\u001b[0m\u001b[0m__sst_rec\u001b[0m\u001b[1;33m(\u001b[0m\u001b[1;33m)\u001b[0m\u001b[1;33m\u001b[0m\u001b[0m\n\u001b[0m\u001b[0;32m    661\u001b[0m         \u001b[0mafter\u001b[0m \u001b[1;33m=\u001b[0m \u001b[0mcountry\u001b[0m \u001b[1;33m+\u001b[0m \u001b[0mall_links\u001b[0m \u001b[1;33m+\u001b[0m \u001b[0mshared_str_table\u001b[0m\u001b[1;33m\u001b[0m\u001b[0m\n\u001b[0;32m    662\u001b[0m \u001b[1;33m\u001b[0m\u001b[0m\n",
      "\u001b[1;32mC:\\Users\\rohit\\Anaconda\\lib\\site-packages\\xlwt\\Workbook.pyc\u001b[0m in \u001b[0;36m__sst_rec\u001b[1;34m(self)\u001b[0m\n\u001b[0;32m    620\u001b[0m \u001b[1;33m\u001b[0m\u001b[0m\n\u001b[0;32m    621\u001b[0m     \u001b[1;32mdef\u001b[0m \u001b[0m__sst_rec\u001b[0m\u001b[1;33m(\u001b[0m\u001b[0mself\u001b[0m\u001b[1;33m)\u001b[0m\u001b[1;33m:\u001b[0m\u001b[1;33m\u001b[0m\u001b[0m\n\u001b[1;32m--> 622\u001b[1;33m         \u001b[1;32mreturn\u001b[0m \u001b[0mself\u001b[0m\u001b[1;33m.\u001b[0m\u001b[0m__sst\u001b[0m\u001b[1;33m.\u001b[0m\u001b[0mget_biff_record\u001b[0m\u001b[1;33m(\u001b[0m\u001b[1;33m)\u001b[0m\u001b[1;33m\u001b[0m\u001b[0m\n\u001b[0m\u001b[0;32m    623\u001b[0m \u001b[1;33m\u001b[0m\u001b[0m\n\u001b[0;32m    624\u001b[0m     \u001b[1;32mdef\u001b[0m \u001b[0m__ext_sst_rec\u001b[0m\u001b[1;33m(\u001b[0m\u001b[0mself\u001b[0m\u001b[1;33m,\u001b[0m \u001b[0mabs_stream_pos\u001b[0m\u001b[1;33m)\u001b[0m\u001b[1;33m:\u001b[0m\u001b[1;33m\u001b[0m\u001b[0m\n",
      "\u001b[1;32mC:\\Users\\rohit\\Anaconda\\lib\\site-packages\\xlwt\\BIFFRecords.pyc\u001b[0m in \u001b[0;36mget_biff_record\u001b[1;34m(self)\u001b[0m\n\u001b[0;32m     75\u001b[0m                 \u001b[0ms\u001b[0m \u001b[1;33m=\u001b[0m \u001b[1;34mu''\u001b[0m\u001b[1;33m\u001b[0m\u001b[0m\n\u001b[0;32m     76\u001b[0m             \u001b[1;32mif\u001b[0m \u001b[0misinstance\u001b[0m\u001b[1;33m(\u001b[0m\u001b[0ms\u001b[0m\u001b[1;33m,\u001b[0m \u001b[0mbasestring\u001b[0m\u001b[1;33m)\u001b[0m\u001b[1;33m:\u001b[0m\u001b[1;33m\u001b[0m\u001b[0m\n\u001b[1;32m---> 77\u001b[1;33m                 \u001b[0mself\u001b[0m\u001b[1;33m.\u001b[0m\u001b[0m_add_to_sst\u001b[0m\u001b[1;33m(\u001b[0m\u001b[0ms\u001b[0m\u001b[1;33m)\u001b[0m\u001b[1;33m\u001b[0m\u001b[0m\n\u001b[0m\u001b[0;32m     78\u001b[0m             \u001b[1;32melse\u001b[0m\u001b[1;33m:\u001b[0m\u001b[1;33m\u001b[0m\u001b[0m\n\u001b[0;32m     79\u001b[0m                 \u001b[0mself\u001b[0m\u001b[1;33m.\u001b[0m\u001b[0m_add_rt_to_sst\u001b[0m\u001b[1;33m(\u001b[0m\u001b[0ms\u001b[0m\u001b[1;33m)\u001b[0m\u001b[1;33m\u001b[0m\u001b[0m\n",
      "\u001b[1;32mC:\\Users\\rohit\\Anaconda\\lib\\site-packages\\xlwt\\BIFFRecords.pyc\u001b[0m in \u001b[0;36m_add_to_sst\u001b[1;34m(self, s)\u001b[0m\n\u001b[0;32m     90\u001b[0m \u001b[1;33m\u001b[0m\u001b[0m\n\u001b[0;32m     91\u001b[0m     \u001b[1;32mdef\u001b[0m \u001b[0m_add_to_sst\u001b[0m\u001b[1;33m(\u001b[0m\u001b[0mself\u001b[0m\u001b[1;33m,\u001b[0m \u001b[0ms\u001b[0m\u001b[1;33m)\u001b[0m\u001b[1;33m:\u001b[0m\u001b[1;33m\u001b[0m\u001b[0m\n\u001b[1;32m---> 92\u001b[1;33m         \u001b[0mu_str\u001b[0m \u001b[1;33m=\u001b[0m \u001b[0mupack2\u001b[0m\u001b[1;33m(\u001b[0m\u001b[0ms\u001b[0m\u001b[1;33m,\u001b[0m \u001b[0mself\u001b[0m\u001b[1;33m.\u001b[0m\u001b[0mencoding\u001b[0m\u001b[1;33m)\u001b[0m\u001b[1;33m\u001b[0m\u001b[0m\n\u001b[0m\u001b[0;32m     93\u001b[0m \u001b[1;33m\u001b[0m\u001b[0m\n\u001b[0;32m     94\u001b[0m         \u001b[0mis_unicode_str\u001b[0m \u001b[1;33m=\u001b[0m \u001b[0mu_str\u001b[0m\u001b[1;33m[\u001b[0m\u001b[1;36m2\u001b[0m\u001b[1;33m]\u001b[0m \u001b[1;33m==\u001b[0m \u001b[1;34mb'\\x01'\u001b[0m\u001b[1;33m\u001b[0m\u001b[0m\n",
      "\u001b[1;32mC:\\Users\\rohit\\Anaconda\\lib\\site-packages\\xlwt\\UnicodeUtils.pyc\u001b[0m in \u001b[0;36mupack2\u001b[1;34m(s, encoding)\u001b[0m\n\u001b[0;32m     53\u001b[0m     \u001b[0mlen_us\u001b[0m \u001b[1;33m=\u001b[0m \u001b[0mlen\u001b[0m\u001b[1;33m(\u001b[0m\u001b[0mus\u001b[0m\u001b[1;33m)\u001b[0m\u001b[1;33m\u001b[0m\u001b[0m\n\u001b[0;32m     54\u001b[0m     \u001b[1;32mif\u001b[0m \u001b[0mlen_us\u001b[0m \u001b[1;33m>\u001b[0m \u001b[1;36m32767\u001b[0m\u001b[1;33m:\u001b[0m\u001b[1;33m\u001b[0m\u001b[0m\n\u001b[1;32m---> 55\u001b[1;33m         \u001b[1;32mraise\u001b[0m \u001b[0mException\u001b[0m\u001b[1;33m(\u001b[0m\u001b[1;34m'String longer than 32767 characters'\u001b[0m\u001b[1;33m)\u001b[0m\u001b[1;33m\u001b[0m\u001b[0m\n\u001b[0m\u001b[0;32m     56\u001b[0m     \u001b[1;32mtry\u001b[0m\u001b[1;33m:\u001b[0m\u001b[1;33m\u001b[0m\u001b[0m\n\u001b[0;32m     57\u001b[0m         \u001b[0mencs\u001b[0m \u001b[1;33m=\u001b[0m \u001b[0mus\u001b[0m\u001b[1;33m.\u001b[0m\u001b[0mencode\u001b[0m\u001b[1;33m(\u001b[0m\u001b[1;34m'latin1'\u001b[0m\u001b[1;33m)\u001b[0m\u001b[1;33m\u001b[0m\u001b[0m\n",
      "\u001b[1;31mException\u001b[0m: String longer than 32767 characters"
     ]
    }
   ],
   "source": [
    "##code to get all subjective sentences\n",
    "df=pd.DataFrame(columns=('CIK','subjectivesentence'))\n",
    "path = \"C:/Users/rohit/Documents/IPO Project/riskfactors\"\n",
    "os.chdir(path)\n",
    "dirs = os.listdir(path)\n",
    "z=0\n",
    "for file in dirs:\n",
    "    ##print os.getcwd()\n",
    "    with open (file, \"r\") as myfile:\n",
    "        ##print myfile\n",
    "        text1=myfile.read()\n",
    "        data1=text1.replace(\"\\\"\",\"\")\n",
    "        sentence=tokenize.sent_tokenize(data1)\n",
    "        filename=file.lstrip('0')\n",
    "        filename=filename[:-13]\n",
    "        subcount=0\n",
    "        subc=0\n",
    "        sentlist=''\n",
    "        for i in range(0,len(sentence)):\n",
    "            sent = TextBlob(sentence[i])\n",
    "            \n",
    "            sub=sent.sentiment.subjectivity\n",
    "            if sub>=0.33:\n",
    "                subc=subc+1\n",
    "                sentlist=sentlist+sentence[i]\n",
    "            subcount=sub+subcount\n",
    "        df=df.append({'CIK':filename,'subjectivesentence':sentlist},ignore_index=True)\n",
    "        try:\n",
    "            totalsub=subcount/(len(sentence))\n",
    "        except:\n",
    "            subcount=subcount+1\n",
    "            totalsub=subcount/(len(sentence))\n",
    "            \n",
    "        ##print totalpos,poscount, totalneg,negcount, totalneut,neutcount\n",
    "        ##'positivity','poscount','negativity','negcount','neutrality','neutcount','subjectivity'\n",
    "df.to_excel('rf_subjectivesentence_fulldatacikwise.xls')\n",
    "        \n",
    "        \n",
    "        "
   ]
  },
  {
   "cell_type": "code",
   "execution_count": 4,
   "metadata": {
    "collapsed": false
   },
   "outputs": [],
   "source": [
    "df.to_csv('rf_subjectivesentence_data.csv')"
   ]
  },
  {
   "cell_type": "code",
   "execution_count": 6,
   "metadata": {
    "collapsed": false
   },
   "outputs": [],
   "source": [
    "path = \"C:/Users/rohit/Documents/IPO Project/boilerplate\"\n",
    "os.chdir(path)\n",
    "filen=pd.read_csv('rf_sentwithsub.csv')\n",
    "df=pd.DataFrame(columns=('subjectivity','sentence','polarity'))\n",
    "for i in range(0,len(filen)):\n",
    "    sent = TextBlob(filen['sentence'][i])\n",
    "    pol=sent.sentiment.polarity\n",
    "    sub=sent.sentiment.subjectivity\n",
    "    df=df.append({'subjectivity':sub,'sentence':filen['sentence'][i],'polarity':pol},ignore_index=True)\n",
    "df.to_csv('rf_polarity.csv')"
   ]
  },
  {
   "cell_type": "code",
   "execution_count": 9,
   "metadata": {
    "collapsed": false
   },
   "outputs": [
    {
     "data": {
      "text/plain": [
       "TextBlob(\"riskfactors_0000006885 In addition information contained Prospectus, prospective investors carefully consider following risk factors making investment Common Stock offered hereby.\")"
      ]
     },
     "execution_count": 9,
     "metadata": {},
     "output_type": "execute_result"
    }
   ],
   "source": [
    "sent"
   ]
  },
  {
   "cell_type": "code",
   "execution_count": null,
   "metadata": {
    "collapsed": true
   },
   "outputs": [],
   "source": []
  }
 ],
 "metadata": {
  "kernelspec": {
   "display_name": "Python 2",
   "language": "python",
   "name": "python2"
  },
  "language_info": {
   "codemirror_mode": {
    "name": "ipython",
    "version": 2
   },
   "file_extension": ".py",
   "mimetype": "text/x-python",
   "name": "python",
   "nbconvert_exporter": "python",
   "pygments_lexer": "ipython2",
   "version": "2.7.10"
  }
 },
 "nbformat": 4,
 "nbformat_minor": 0
}
